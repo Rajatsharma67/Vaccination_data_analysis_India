{
 "cells": [
  {
   "cell_type": "code",
   "execution_count": 53,
   "id": "d15fc51b",
   "metadata": {},
   "outputs": [],
   "source": [
    "# importing libraries\n",
    "\n",
    "import numpy as np\n",
    "import pandas as pd\n",
    "import pygal as pg\n",
    "%matplotlib inline"
   ]
  },
  {
   "cell_type": "code",
   "execution_count": 54,
   "id": "9dc3c5da",
   "metadata": {},
   "outputs": [],
   "source": [
    "today_vaccination = pd.read_excel('dashboard_export.xlsx', sheet_name='VaccinationDoneByTimeToday')"
   ]
  },
  {
   "cell_type": "code",
   "execution_count": 55,
   "id": "32280ec5",
   "metadata": {},
   "outputs": [
    {
     "data": {
      "text/html": [
       "<div>\n",
       "<style scoped>\n",
       "    .dataframe tbody tr th:only-of-type {\n",
       "        vertical-align: middle;\n",
       "    }\n",
       "\n",
       "    .dataframe tbody tr th {\n",
       "        vertical-align: top;\n",
       "    }\n",
       "\n",
       "    .dataframe thead th {\n",
       "        text-align: right;\n",
       "    }\n",
       "</style>\n",
       "<table border=\"1\" class=\"dataframe\">\n",
       "  <thead>\n",
       "    <tr style=\"text-align: right;\">\n",
       "      <th></th>\n",
       "      <th>label</th>\n",
       "      <th>dose_one</th>\n",
       "      <th>dose_two</th>\n",
       "      <th>precaution_dose</th>\n",
       "      <th>count</th>\n",
       "    </tr>\n",
       "  </thead>\n",
       "  <tbody>\n",
       "    <tr>\n",
       "      <th>0</th>\n",
       "      <td>07:00-08:00</td>\n",
       "      <td>949</td>\n",
       "      <td>2921</td>\n",
       "      <td>81</td>\n",
       "      <td>3951</td>\n",
       "    </tr>\n",
       "    <tr>\n",
       "      <th>1</th>\n",
       "      <td>08:00-09:00</td>\n",
       "      <td>3280</td>\n",
       "      <td>6361</td>\n",
       "      <td>1238</td>\n",
       "      <td>10879</td>\n",
       "    </tr>\n",
       "  </tbody>\n",
       "</table>\n",
       "</div>"
      ],
      "text/plain": [
       "         label  dose_one  dose_two  precaution_dose  count\n",
       "0  07:00-08:00       949      2921               81   3951\n",
       "1  08:00-09:00      3280      6361             1238  10879"
      ]
     },
     "execution_count": 55,
     "metadata": {},
     "output_type": "execute_result"
    }
   ],
   "source": [
    "today_vaccination.head(2)"
   ]
  },
  {
   "cell_type": "code",
   "execution_count": 56,
   "id": "afc72a98",
   "metadata": {},
   "outputs": [
    {
     "name": "stdout",
     "output_type": "stream",
     "text": [
      "file://C:/Users/Rajat/AppData/Local/Temp/tmpch8x9tws.html\n"
     ]
    }
   ],
   "source": [
    "line_chart = pg.StackedLine(fill=True, human_readable=True, width=1500)\n",
    "line_chart.title = \"Vaccination For Today\"\n",
    "line_chart.x_labels = map(str, today_vaccination.label)\n",
    "line_chart.add('Dose 1',today_vaccination.dose_one)\n",
    "line_chart.add('Dose 2',today_vaccination.dose_two)\n",
    "line_chart.add('Precaution Dose',today_vaccination.precaution_dose)\n",
    "line_chart.add('Total', today_vaccination['count'])\n",
    "line_chart.render_in_browser()"
   ]
  },
  {
   "cell_type": "code",
   "execution_count": 57,
   "id": "c5a73155",
   "metadata": {},
   "outputs": [],
   "source": [
    "last_thirty_vaccination = pd.read_excel('dashboard_export.xlsx', sheet_name='Last30DaysVaccination')"
   ]
  },
  {
   "cell_type": "code",
   "execution_count": 58,
   "id": "b113ab81",
   "metadata": {},
   "outputs": [
    {
     "data": {
      "text/html": [
       "<div>\n",
       "<style scoped>\n",
       "    .dataframe tbody tr th:only-of-type {\n",
       "        vertical-align: middle;\n",
       "    }\n",
       "\n",
       "    .dataframe tbody tr th {\n",
       "        vertical-align: top;\n",
       "    }\n",
       "\n",
       "    .dataframe thead th {\n",
       "        text-align: right;\n",
       "    }\n",
       "</style>\n",
       "<table border=\"1\" class=\"dataframe\">\n",
       "  <thead>\n",
       "    <tr style=\"text-align: right;\">\n",
       "      <th></th>\n",
       "      <th>vaccine_date</th>\n",
       "      <th>dose_1</th>\n",
       "      <th>dose_2</th>\n",
       "      <th>precaution_dose</th>\n",
       "      <th>total</th>\n",
       "    </tr>\n",
       "  </thead>\n",
       "  <tbody>\n",
       "    <tr>\n",
       "      <th>0</th>\n",
       "      <td>2021-12-13</td>\n",
       "      <td>2010040</td>\n",
       "      <td>5054746</td>\n",
       "      <td>0</td>\n",
       "      <td>7064786</td>\n",
       "    </tr>\n",
       "    <tr>\n",
       "      <th>1</th>\n",
       "      <td>2021-12-14</td>\n",
       "      <td>1957255</td>\n",
       "      <td>5272552</td>\n",
       "      <td>0</td>\n",
       "      <td>7229807</td>\n",
       "    </tr>\n",
       "  </tbody>\n",
       "</table>\n",
       "</div>"
      ],
      "text/plain": [
       "  vaccine_date   dose_1   dose_2  precaution_dose    total\n",
       "0   2021-12-13  2010040  5054746                0  7064786\n",
       "1   2021-12-14  1957255  5272552                0  7229807"
      ]
     },
     "execution_count": 58,
     "metadata": {},
     "output_type": "execute_result"
    }
   ],
   "source": [
    "last_thirty_vaccination.head(2)"
   ]
  },
  {
   "cell_type": "code",
   "execution_count": 59,
   "id": "38dc7323",
   "metadata": {},
   "outputs": [
    {
     "name": "stdout",
     "output_type": "stream",
     "text": [
      "file://C:/Users/Rajat/AppData/Local/Temp/tmprct7wi07.html\n"
     ]
    }
   ],
   "source": [
    "line_chart = pg.StackedLine(fill=True, human_readable=True, width=1500)\n",
    "line_chart.title = \"Vaccination For Last 30 Days\"\n",
    "line_chart.x_labels = map(str, last_thirty_vaccination.vaccine_date)\n",
    "line_chart.add('Dose 1',last_thirty_vaccination.dose_1)\n",
    "line_chart.add('Dose 2',last_thirty_vaccination.dose_2)\n",
    "line_chart.add('Precaution Dose',last_thirty_vaccination.precaution_dose)\n",
    "line_chart.add('Total', last_thirty_vaccination['total'])\n",
    "line_chart.render_in_browser()"
   ]
  },
  {
   "cell_type": "code",
   "execution_count": 60,
   "id": "57c1cc68",
   "metadata": {},
   "outputs": [],
   "source": [
    "weekly = pd.read_excel('dashboard_export.xlsx', sheet_name='WeeklyVaccination')"
   ]
  },
  {
   "cell_type": "code",
   "execution_count": 61,
   "id": "568a67bc",
   "metadata": {},
   "outputs": [
    {
     "data": {
      "text/html": [
       "<div>\n",
       "<style scoped>\n",
       "    .dataframe tbody tr th:only-of-type {\n",
       "        vertical-align: middle;\n",
       "    }\n",
       "\n",
       "    .dataframe tbody tr th {\n",
       "        vertical-align: top;\n",
       "    }\n",
       "\n",
       "    .dataframe thead th {\n",
       "        text-align: right;\n",
       "    }\n",
       "</style>\n",
       "<table border=\"1\" class=\"dataframe\">\n",
       "  <thead>\n",
       "    <tr style=\"text-align: right;\">\n",
       "      <th></th>\n",
       "      <th>label</th>\n",
       "      <th>dose1</th>\n",
       "      <th>dose2</th>\n",
       "      <th>precaution_dose</th>\n",
       "      <th>total</th>\n",
       "    </tr>\n",
       "  </thead>\n",
       "  <tbody>\n",
       "    <tr>\n",
       "      <th>0</th>\n",
       "      <td>16 Jan-22 Jan</td>\n",
       "      <td>1243013</td>\n",
       "      <td>0</td>\n",
       "      <td>0</td>\n",
       "      <td>1243013</td>\n",
       "    </tr>\n",
       "    <tr>\n",
       "      <th>1</th>\n",
       "      <td>23 Jan-29 Jan</td>\n",
       "      <td>2053181</td>\n",
       "      <td>0</td>\n",
       "      <td>0</td>\n",
       "      <td>2053181</td>\n",
       "    </tr>\n",
       "  </tbody>\n",
       "</table>\n",
       "</div>"
      ],
      "text/plain": [
       "           label    dose1  dose2  precaution_dose    total\n",
       "0  16 Jan-22 Jan  1243013      0                0  1243013\n",
       "1  23 Jan-29 Jan  2053181      0                0  2053181"
      ]
     },
     "execution_count": 61,
     "metadata": {},
     "output_type": "execute_result"
    }
   ],
   "source": [
    "weekly.head(2)"
   ]
  },
  {
   "cell_type": "code",
   "execution_count": 72,
   "id": "24985725",
   "metadata": {},
   "outputs": [
    {
     "name": "stdout",
     "output_type": "stream",
     "text": [
      "file://C:/Users/Rajat/AppData/Local/Temp/tmp9h_n_wx8.html\n"
     ]
    }
   ],
   "source": [
    "bar_chart = pg.StackedBar(fill=True, human_readable=True, width=1500)\n",
    "bar_chart.title = \"Weekly Vaccination\"\n",
    "bar_chart.x_labels = map(str, weekly.label)\n",
    "bar_chart.add('Dose 1',weekly.dose1)\n",
    "bar_chart.add('Dose 2',weekly.dose2)\n",
    "bar_chart.add('Precaution Dose',weekly.precaution_dose)\n",
    "bar_chart.add('Total', weekly['total'])\n",
    "bar_chart.render_in_browser()"
   ]
  },
  {
   "cell_type": "code",
   "execution_count": 112,
   "id": "142e2153",
   "metadata": {},
   "outputs": [],
   "source": [
    "by_age_time = pd.read_excel('dashboard_export.xlsx', sheet_name='VaccinationByTimeAgeWiseToday')"
   ]
  },
  {
   "cell_type": "code",
   "execution_count": 113,
   "id": "4409611a",
   "metadata": {},
   "outputs": [
    {
     "data": {
      "text/html": [
       "<div>\n",
       "<style scoped>\n",
       "    .dataframe tbody tr th:only-of-type {\n",
       "        vertical-align: middle;\n",
       "    }\n",
       "\n",
       "    .dataframe tbody tr th {\n",
       "        vertical-align: top;\n",
       "    }\n",
       "\n",
       "    .dataframe thead th {\n",
       "        text-align: right;\n",
       "    }\n",
       "</style>\n",
       "<table border=\"1\" class=\"dataframe\">\n",
       "  <thead>\n",
       "    <tr style=\"text-align: right;\">\n",
       "      <th></th>\n",
       "      <th>label</th>\n",
       "      <th>vac_15_17</th>\n",
       "      <th>vac_18_45</th>\n",
       "      <th>vac_45_60</th>\n",
       "      <th>vac_60_above</th>\n",
       "      <th>total</th>\n",
       "    </tr>\n",
       "  </thead>\n",
       "  <tbody>\n",
       "    <tr>\n",
       "      <th>0</th>\n",
       "      <td>07:00-08:00</td>\n",
       "      <td>248</td>\n",
       "      <td>2607</td>\n",
       "      <td>747</td>\n",
       "      <td>349</td>\n",
       "      <td>3951</td>\n",
       "    </tr>\n",
       "    <tr>\n",
       "      <th>1</th>\n",
       "      <td>08:00-09:00</td>\n",
       "      <td>1435</td>\n",
       "      <td>6423</td>\n",
       "      <td>1861</td>\n",
       "      <td>1160</td>\n",
       "      <td>10879</td>\n",
       "    </tr>\n",
       "  </tbody>\n",
       "</table>\n",
       "</div>"
      ],
      "text/plain": [
       "         label  vac_15_17  vac_18_45  vac_45_60  vac_60_above  total\n",
       "0  07:00-08:00        248       2607        747           349   3951\n",
       "1  08:00-09:00       1435       6423       1861          1160  10879"
      ]
     },
     "execution_count": 113,
     "metadata": {},
     "output_type": "execute_result"
    }
   ],
   "source": [
    "by_age_time.head(2)"
   ]
  },
  {
   "cell_type": "code",
   "execution_count": 114,
   "id": "ee4de876",
   "metadata": {},
   "outputs": [
    {
     "name": "stdout",
     "output_type": "stream",
     "text": [
      "file://C:/Users/Rajat/AppData/Local/Temp/tmpjhfx3uop.html\n"
     ]
    }
   ],
   "source": [
    "bar_chart = pg.StackedBar(fill=True, human_readable=True, width=1500)\n",
    "bar_chart.title = \"Vaccination by Age and Time\"\n",
    "bar_chart.x_labels = map(str, by_age_time.label)\n",
    "bar_chart.add('15-17',by_age_time.vac_15_17)\n",
    "bar_chart.add('18-44',by_age_time.vac_18_45)\n",
    "bar_chart.add('45-60',by_age_time.vac_45_60)\n",
    "bar_chart.add('Above 60',by_age_time.vac_60_above)\n",
    "bar_chart.add('Total', by_age_time['total'])\n",
    "bar_chart.render_in_browser()"
   ]
  },
  {
   "cell_type": "code",
   "execution_count": 51,
   "id": "4b7fdbc6",
   "metadata": {},
   "outputs": [],
   "source": [
    "last_30_by_age = pd.read_excel('dashboard_export.xlsx', sheet_name='Last30DaysAgeWiseVaccination')"
   ]
  },
  {
   "cell_type": "code",
   "execution_count": 70,
   "id": "fc8631f4",
   "metadata": {},
   "outputs": [
    {
     "data": {
      "text/html": [
       "<div>\n",
       "<style scoped>\n",
       "    .dataframe tbody tr th:only-of-type {\n",
       "        vertical-align: middle;\n",
       "    }\n",
       "\n",
       "    .dataframe tbody tr th {\n",
       "        vertical-align: top;\n",
       "    }\n",
       "\n",
       "    .dataframe thead th {\n",
       "        text-align: right;\n",
       "    }\n",
       "</style>\n",
       "<table border=\"1\" class=\"dataframe\">\n",
       "  <thead>\n",
       "    <tr style=\"text-align: right;\">\n",
       "      <th></th>\n",
       "      <th>vaccine_date</th>\n",
       "      <th>vac_15_17</th>\n",
       "      <th>vac_18_45</th>\n",
       "      <th>vac_45_60</th>\n",
       "      <th>vac_60_above</th>\n",
       "      <th>total</th>\n",
       "    </tr>\n",
       "  </thead>\n",
       "  <tbody>\n",
       "    <tr>\n",
       "      <th>0</th>\n",
       "      <td>2021-12-13</td>\n",
       "      <td>0</td>\n",
       "      <td>5014145</td>\n",
       "      <td>1341256</td>\n",
       "      <td>709385</td>\n",
       "      <td>7064786</td>\n",
       "    </tr>\n",
       "    <tr>\n",
       "      <th>1</th>\n",
       "      <td>2021-12-14</td>\n",
       "      <td>0</td>\n",
       "      <td>5124304</td>\n",
       "      <td>1365808</td>\n",
       "      <td>739695</td>\n",
       "      <td>7229807</td>\n",
       "    </tr>\n",
       "  </tbody>\n",
       "</table>\n",
       "</div>"
      ],
      "text/plain": [
       "  vaccine_date  vac_15_17  vac_18_45  vac_45_60  vac_60_above    total\n",
       "0   2021-12-13          0    5014145    1341256        709385  7064786\n",
       "1   2021-12-14          0    5124304    1365808        739695  7229807"
      ]
     },
     "execution_count": 70,
     "metadata": {},
     "output_type": "execute_result"
    }
   ],
   "source": [
    "last_30_by_age.head(2)"
   ]
  },
  {
   "cell_type": "code",
   "execution_count": 67,
   "id": "d38153b0",
   "metadata": {},
   "outputs": [
    {
     "name": "stdout",
     "output_type": "stream",
     "text": [
      "file://C:/Users/Rajat/AppData/Local/Temp/tmpv5_e67mk.html\n"
     ]
    }
   ],
   "source": [
    "bar_chart = pg.Bar(human_readable=True, width=1500)\n",
    "bar_chart.title = \"Vaccination by Age for last 30 Days\"\n",
    "bar_chart.x_labels = map(str, last_30_by_age.vaccine_date)\n",
    "bar_chart.add('15-17',last_30_by_age.vac_15_17)\n",
    "bar_chart.add('18-45',last_30_by_age.vac_18_45)\n",
    "bar_chart.add('45-60',last_30_by_age.vac_45_60)\n",
    "bar_chart.add('Above 60',last_30_by_age.vac_60_above)\n",
    "bar_chart.render_in_browser()"
   ]
  },
  {
   "cell_type": "code",
   "execution_count": 68,
   "id": "232bf3c3",
   "metadata": {},
   "outputs": [],
   "source": [
    "weekly_age_wise = pd.read_excel('dashboard_export.xlsx', sheet_name='weeklyAgeWiseVaccination')"
   ]
  },
  {
   "cell_type": "code",
   "execution_count": 69,
   "id": "8f84d40e",
   "metadata": {},
   "outputs": [
    {
     "data": {
      "text/html": [
       "<div>\n",
       "<style scoped>\n",
       "    .dataframe tbody tr th:only-of-type {\n",
       "        vertical-align: middle;\n",
       "    }\n",
       "\n",
       "    .dataframe tbody tr th {\n",
       "        vertical-align: top;\n",
       "    }\n",
       "\n",
       "    .dataframe thead th {\n",
       "        text-align: right;\n",
       "    }\n",
       "</style>\n",
       "<table border=\"1\" class=\"dataframe\">\n",
       "  <thead>\n",
       "    <tr style=\"text-align: right;\">\n",
       "      <th></th>\n",
       "      <th>label</th>\n",
       "      <th>vac_15_17</th>\n",
       "      <th>vac_18_45</th>\n",
       "      <th>vac_45_60</th>\n",
       "      <th>vac_60_above</th>\n",
       "      <th>total</th>\n",
       "    </tr>\n",
       "  </thead>\n",
       "  <tbody>\n",
       "    <tr>\n",
       "      <th>0</th>\n",
       "      <td>16 Jan-22 Jan</td>\n",
       "      <td>0</td>\n",
       "      <td>847737</td>\n",
       "      <td>359993</td>\n",
       "      <td>35283</td>\n",
       "      <td>1243013</td>\n",
       "    </tr>\n",
       "    <tr>\n",
       "      <th>1</th>\n",
       "      <td>23 Jan-29 Jan</td>\n",
       "      <td>0</td>\n",
       "      <td>1436599</td>\n",
       "      <td>548709</td>\n",
       "      <td>67872</td>\n",
       "      <td>2053181</td>\n",
       "    </tr>\n",
       "  </tbody>\n",
       "</table>\n",
       "</div>"
      ],
      "text/plain": [
       "           label  vac_15_17  vac_18_45  vac_45_60  vac_60_above    total\n",
       "0  16 Jan-22 Jan          0     847737     359993         35283  1243013\n",
       "1  23 Jan-29 Jan          0    1436599     548709         67872  2053181"
      ]
     },
     "execution_count": 69,
     "metadata": {},
     "output_type": "execute_result"
    }
   ],
   "source": [
    "weekly_age_wise.head(2)"
   ]
  },
  {
   "cell_type": "code",
   "execution_count": 73,
   "id": "4aa1b0c7",
   "metadata": {},
   "outputs": [
    {
     "name": "stdout",
     "output_type": "stream",
     "text": [
      "file://C:/Users/Rajat/AppData/Local/Temp/tmp597e00f3.html\n"
     ]
    }
   ],
   "source": [
    "bar_chart = pg.StackedBar(fill=True, human_readable=True, width=1500)\n",
    "bar_chart.title = \"Weekly Age Vaccination\"\n",
    "bar_chart.x_labels = map(str, weekly_age_wise.label)\n",
    "bar_chart.add('15-17',weekly_age_wise.vac_15_17)\n",
    "bar_chart.add('18-45',weekly_age_wise.vac_18_45)\n",
    "bar_chart.add('45-60',weekly_age_wise.vac_45_60)\n",
    "bar_chart.add('Above 60',weekly_age_wise.vac_60_above)\n",
    "bar_chart.add('Total', weekly_age_wise['total'])\n",
    "bar_chart.render_in_browser()"
   ]
  },
  {
   "cell_type": "code",
   "execution_count": 74,
   "id": "269ccdb2",
   "metadata": {},
   "outputs": [],
   "source": [
    "today_registration = pd.read_excel('dashboard_export.xlsx', sheet_name='registrationDoneByTimeToday')"
   ]
  },
  {
   "cell_type": "code",
   "execution_count": 75,
   "id": "a9d762b7",
   "metadata": {},
   "outputs": [
    {
     "data": {
      "text/html": [
       "<div>\n",
       "<style scoped>\n",
       "    .dataframe tbody tr th:only-of-type {\n",
       "        vertical-align: middle;\n",
       "    }\n",
       "\n",
       "    .dataframe tbody tr th {\n",
       "        vertical-align: top;\n",
       "    }\n",
       "\n",
       "    .dataframe thead th {\n",
       "        text-align: right;\n",
       "    }\n",
       "</style>\n",
       "<table border=\"1\" class=\"dataframe\">\n",
       "  <thead>\n",
       "    <tr style=\"text-align: right;\">\n",
       "      <th></th>\n",
       "      <th>label</th>\n",
       "      <th>age15</th>\n",
       "      <th>age18</th>\n",
       "      <th>age45</th>\n",
       "      <th>age60</th>\n",
       "      <th>total</th>\n",
       "    </tr>\n",
       "  </thead>\n",
       "  <tbody>\n",
       "    <tr>\n",
       "      <th>0</th>\n",
       "      <td>00:00-01:00</td>\n",
       "      <td>2093</td>\n",
       "      <td>3676</td>\n",
       "      <td>747</td>\n",
       "      <td>418</td>\n",
       "      <td>6934</td>\n",
       "    </tr>\n",
       "    <tr>\n",
       "      <th>1</th>\n",
       "      <td>01:00-02:00</td>\n",
       "      <td>854</td>\n",
       "      <td>1428</td>\n",
       "      <td>241</td>\n",
       "      <td>173</td>\n",
       "      <td>2696</td>\n",
       "    </tr>\n",
       "  </tbody>\n",
       "</table>\n",
       "</div>"
      ],
      "text/plain": [
       "         label  age15  age18  age45  age60  total\n",
       "0  00:00-01:00   2093   3676    747    418   6934\n",
       "1  01:00-02:00    854   1428    241    173   2696"
      ]
     },
     "execution_count": 75,
     "metadata": {},
     "output_type": "execute_result"
    }
   ],
   "source": [
    "today_registration.head(2)"
   ]
  },
  {
   "cell_type": "code",
   "execution_count": 93,
   "id": "a0acd150",
   "metadata": {},
   "outputs": [
    {
     "name": "stdout",
     "output_type": "stream",
     "text": [
      "file://C:/Users/Rajat/AppData/Local/Temp/tmpe0efkqsn.html\n"
     ]
    }
   ],
   "source": [
    "bar_chart = pg.StackedBar(fill=True, human_readable=True, width=1500)\n",
    "bar_chart.title = \"Registraions Today\"\n",
    "bar_chart.x_labels = map(str, today_registration.label)\n",
    "bar_chart.add('15-17',today_registration.age15)\n",
    "bar_chart.add('18-44',today_registration.age18)\n",
    "bar_chart.add('45-60',today_registration.age45)\n",
    "bar_chart.add('Above 60',today_registration.age60)\n",
    "bar_chart.add('Total',today_registration.total)\n",
    "bar_chart.render_in_browser()"
   ]
  },
  {
   "cell_type": "code",
   "execution_count": 94,
   "id": "19bf4041",
   "metadata": {},
   "outputs": [],
   "source": [
    "last_30_registration = pd.read_excel('dashboard_export.xlsx', sheet_name='last30DaysRegistration')"
   ]
  },
  {
   "cell_type": "code",
   "execution_count": 95,
   "id": "422c388f",
   "metadata": {},
   "outputs": [
    {
     "data": {
      "text/html": [
       "<div>\n",
       "<style scoped>\n",
       "    .dataframe tbody tr th:only-of-type {\n",
       "        vertical-align: middle;\n",
       "    }\n",
       "\n",
       "    .dataframe tbody tr th {\n",
       "        vertical-align: top;\n",
       "    }\n",
       "\n",
       "    .dataframe thead th {\n",
       "        text-align: right;\n",
       "    }\n",
       "</style>\n",
       "<table border=\"1\" class=\"dataframe\">\n",
       "  <thead>\n",
       "    <tr style=\"text-align: right;\">\n",
       "      <th></th>\n",
       "      <th>reg_date</th>\n",
       "      <th>age15</th>\n",
       "      <th>age18</th>\n",
       "      <th>age45</th>\n",
       "      <th>age60</th>\n",
       "      <th>total</th>\n",
       "    </tr>\n",
       "  </thead>\n",
       "  <tbody>\n",
       "    <tr>\n",
       "      <th>0</th>\n",
       "      <td>13 Dec</td>\n",
       "      <td>0</td>\n",
       "      <td>1633321</td>\n",
       "      <td>414605</td>\n",
       "      <td>238340</td>\n",
       "      <td>2286266</td>\n",
       "    </tr>\n",
       "    <tr>\n",
       "      <th>1</th>\n",
       "      <td>14 Dec</td>\n",
       "      <td>0</td>\n",
       "      <td>1641434</td>\n",
       "      <td>401154</td>\n",
       "      <td>235580</td>\n",
       "      <td>2278168</td>\n",
       "    </tr>\n",
       "  </tbody>\n",
       "</table>\n",
       "</div>"
      ],
      "text/plain": [
       "  reg_date  age15    age18   age45   age60    total\n",
       "0   13 Dec      0  1633321  414605  238340  2286266\n",
       "1   14 Dec      0  1641434  401154  235580  2278168"
      ]
     },
     "execution_count": 95,
     "metadata": {},
     "output_type": "execute_result"
    }
   ],
   "source": [
    "last_30_registration.head(2)"
   ]
  },
  {
   "cell_type": "code",
   "execution_count": 96,
   "id": "14472f6d",
   "metadata": {},
   "outputs": [
    {
     "name": "stdout",
     "output_type": "stream",
     "text": [
      "file://C:/Users/Rajat/AppData/Local/Temp/tmpm9m_8m_j.html\n"
     ]
    }
   ],
   "source": [
    "bar_chart = pg.StackedBar(fill=True, human_readable=True, width=1500)\n",
    "bar_chart.title = \"Registraions for last 30 days\"\n",
    "bar_chart.x_labels = map(str, last_30_registration.reg_date)\n",
    "bar_chart.add('15-17',last_30_registration.age15)\n",
    "bar_chart.add('18-44',last_30_registration.age18)\n",
    "bar_chart.add('45-60',last_30_registration.age45)\n",
    "bar_chart.add('Above 60',last_30_registration.age60)\n",
    "bar_chart.add('Total',last_30_registration.total)\n",
    "bar_chart.render_in_browser()"
   ]
  },
  {
   "cell_type": "code",
   "execution_count": 97,
   "id": "a4e9c8be",
   "metadata": {},
   "outputs": [],
   "source": [
    "weekly_registration = pd.read_excel('dashboard_export.xlsx', sheet_name='weeklyRegistration')"
   ]
  },
  {
   "cell_type": "code",
   "execution_count": 98,
   "id": "30c6e608",
   "metadata": {},
   "outputs": [
    {
     "data": {
      "text/html": [
       "<div>\n",
       "<style scoped>\n",
       "    .dataframe tbody tr th:only-of-type {\n",
       "        vertical-align: middle;\n",
       "    }\n",
       "\n",
       "    .dataframe tbody tr th {\n",
       "        vertical-align: top;\n",
       "    }\n",
       "\n",
       "    .dataframe thead th {\n",
       "        text-align: right;\n",
       "    }\n",
       "</style>\n",
       "<table border=\"1\" class=\"dataframe\">\n",
       "  <thead>\n",
       "    <tr style=\"text-align: right;\">\n",
       "      <th></th>\n",
       "      <th>label</th>\n",
       "      <th>age15</th>\n",
       "      <th>age18</th>\n",
       "      <th>age45</th>\n",
       "      <th>age60</th>\n",
       "      <th>total</th>\n",
       "    </tr>\n",
       "  </thead>\n",
       "  <tbody>\n",
       "    <tr>\n",
       "      <th>0</th>\n",
       "      <td>21 Nov-27 Nov</td>\n",
       "      <td>0</td>\n",
       "      <td>8</td>\n",
       "      <td>6</td>\n",
       "      <td>4</td>\n",
       "      <td>18</td>\n",
       "    </tr>\n",
       "    <tr>\n",
       "      <th>1</th>\n",
       "      <td>28 Nov-04 Dec</td>\n",
       "      <td>0</td>\n",
       "      <td>109568</td>\n",
       "      <td>49056</td>\n",
       "      <td>3974</td>\n",
       "      <td>162598</td>\n",
       "    </tr>\n",
       "  </tbody>\n",
       "</table>\n",
       "</div>"
      ],
      "text/plain": [
       "           label  age15   age18  age45  age60   total\n",
       "0  21 Nov-27 Nov      0       8      6      4      18\n",
       "1  28 Nov-04 Dec      0  109568  49056   3974  162598"
      ]
     },
     "execution_count": 98,
     "metadata": {},
     "output_type": "execute_result"
    }
   ],
   "source": [
    "weekly_registration.head(2)"
   ]
  },
  {
   "cell_type": "code",
   "execution_count": 100,
   "id": "6545fd11",
   "metadata": {},
   "outputs": [
    {
     "name": "stdout",
     "output_type": "stream",
     "text": [
      "file://C:/Users/Rajat/AppData/Local/Temp/tmpmiuntwe7.html\n"
     ]
    }
   ],
   "source": [
    "bar_chart = pg.StackedBar(fill=True, human_readable=True, width=1500)\n",
    "bar_chart.title = \"Registraions Weekly\"\n",
    "bar_chart.x_labels = map(str, weekly_registration.label)\n",
    "bar_chart.add('15-17',weekly_registration.age15)\n",
    "bar_chart.add('18-44',weekly_registration.age18)\n",
    "bar_chart.add('45-60',weekly_registration.age45)\n",
    "bar_chart.add('Above 60',weekly_registration.age60)\n",
    "bar_chart.add('Total',weekly_registration.total)\n",
    "bar_chart.render_in_browser()"
   ]
  },
  {
   "cell_type": "code",
   "execution_count": 101,
   "id": "4c3bd9e1",
   "metadata": {},
   "outputs": [],
   "source": [
    "aefi_report = pd.read_excel('dashboard_export.xlsx', sheet_name='last30DaysAefiReported')"
   ]
  },
  {
   "cell_type": "code",
   "execution_count": 102,
   "id": "07212c77",
   "metadata": {},
   "outputs": [
    {
     "data": {
      "text/html": [
       "<div>\n",
       "<style scoped>\n",
       "    .dataframe tbody tr th:only-of-type {\n",
       "        vertical-align: middle;\n",
       "    }\n",
       "\n",
       "    .dataframe tbody tr th {\n",
       "        vertical-align: top;\n",
       "    }\n",
       "\n",
       "    .dataframe thead th {\n",
       "        text-align: right;\n",
       "    }\n",
       "</style>\n",
       "<table border=\"1\" class=\"dataframe\">\n",
       "  <thead>\n",
       "    <tr style=\"text-align: right;\">\n",
       "      <th></th>\n",
       "      <th>vaccine_date</th>\n",
       "      <th>aefi</th>\n",
       "    </tr>\n",
       "  </thead>\n",
       "  <tbody>\n",
       "    <tr>\n",
       "      <th>0</th>\n",
       "      <td>2021-12-13</td>\n",
       "      <td>321</td>\n",
       "    </tr>\n",
       "    <tr>\n",
       "      <th>1</th>\n",
       "      <td>2021-12-14</td>\n",
       "      <td>217</td>\n",
       "    </tr>\n",
       "  </tbody>\n",
       "</table>\n",
       "</div>"
      ],
      "text/plain": [
       "  vaccine_date  aefi\n",
       "0   2021-12-13   321\n",
       "1   2021-12-14   217"
      ]
     },
     "execution_count": 102,
     "metadata": {},
     "output_type": "execute_result"
    }
   ],
   "source": [
    "aefi_report.head(2)"
   ]
  },
  {
   "cell_type": "code",
   "execution_count": 111,
   "id": "4ceb7389",
   "metadata": {},
   "outputs": [
    {
     "name": "stdout",
     "output_type": "stream",
     "text": [
      "file://C:/Users/Rajat/AppData/Local/Temp/tmpiwuiu08f.html\n"
     ]
    }
   ],
   "source": [
    "line_chart = pg.StackedLine(fill=True, human_readable=True, width=1500, x_label_rotation=-45)\n",
    "line_chart.title = \"AEFI Reported For Last 30 Days\"\n",
    "line_chart.x_labels = map(str, aefi_report.vaccine_date)\n",
    "line_chart.add('Total',aefi_report.aefi)\n",
    "line_chart.render_in_browser()"
   ]
  },
  {
   "cell_type": "code",
   "execution_count": 115,
   "id": "b23f0591",
   "metadata": {},
   "outputs": [],
   "source": [
    "by_age = pd.read_excel('dashboard_export.xlsx', sheet_name='vaccinationByAge')"
   ]
  },
  {
   "cell_type": "code",
   "execution_count": 116,
   "id": "fab03487",
   "metadata": {},
   "outputs": [
    {
     "data": {
      "text/html": [
       "<div>\n",
       "<style scoped>\n",
       "    .dataframe tbody tr th:only-of-type {\n",
       "        vertical-align: middle;\n",
       "    }\n",
       "\n",
       "    .dataframe tbody tr th {\n",
       "        vertical-align: top;\n",
       "    }\n",
       "\n",
       "    .dataframe thead th {\n",
       "        text-align: right;\n",
       "    }\n",
       "</style>\n",
       "<table border=\"1\" class=\"dataframe\">\n",
       "  <thead>\n",
       "    <tr style=\"text-align: right;\">\n",
       "      <th></th>\n",
       "      <th>vac_15_17</th>\n",
       "      <th>vac_18_45</th>\n",
       "      <th>vac_45_60</th>\n",
       "      <th>above_60</th>\n",
       "    </tr>\n",
       "  </thead>\n",
       "  <tbody>\n",
       "    <tr>\n",
       "      <th>0</th>\n",
       "      <td>29768635</td>\n",
       "      <td>920173465</td>\n",
       "      <td>367820198</td>\n",
       "      <td>223892146</td>\n",
       "    </tr>\n",
       "  </tbody>\n",
       "</table>\n",
       "</div>"
      ],
      "text/plain": [
       "   vac_15_17  vac_18_45  vac_45_60   above_60\n",
       "0   29768635  920173465  367820198  223892146"
      ]
     },
     "execution_count": 116,
     "metadata": {},
     "output_type": "execute_result"
    }
   ],
   "source": [
    "by_age.head(2)"
   ]
  },
  {
   "cell_type": "code",
   "execution_count": 118,
   "id": "7642022d",
   "metadata": {},
   "outputs": [
    {
     "name": "stdout",
     "output_type": "stream",
     "text": [
      "file://C:/Users/Rajat/AppData/Local/Temp/tmpvzf53ymu.html\n"
     ]
    }
   ],
   "source": [
    "pie_chart = pg.Pie(half_pie=True, width=1500)\n",
    "pie_chart.title = \"Vaccination by Age\"\n",
    "pie_chart.add('15-17',by_age.vac_15_17)\n",
    "pie_chart.add('18-45',by_age.vac_18_45)\n",
    "pie_chart.add('45-60',by_age.vac_45_60)\n",
    "pie_chart.add('Above-60',by_age.above_60)\n",
    "pie_chart.render_in_browser()"
   ]
  },
  {
   "cell_type": "code",
   "execution_count": 119,
   "id": "43783e33",
   "metadata": {},
   "outputs": [],
   "source": [
    "state_wise = pd.read_excel('dashboard_export.xlsx', sheet_name='StateWiseVaccination')"
   ]
  },
  {
   "cell_type": "code",
   "execution_count": 120,
   "id": "e795a3c0",
   "metadata": {},
   "outputs": [
    {
     "data": {
      "text/html": [
       "<div>\n",
       "<style scoped>\n",
       "    .dataframe tbody tr th:only-of-type {\n",
       "        vertical-align: middle;\n",
       "    }\n",
       "\n",
       "    .dataframe tbody tr th {\n",
       "        vertical-align: top;\n",
       "    }\n",
       "\n",
       "    .dataframe thead th {\n",
       "        text-align: right;\n",
       "    }\n",
       "</style>\n",
       "<table border=\"1\" class=\"dataframe\">\n",
       "  <thead>\n",
       "    <tr style=\"text-align: right;\">\n",
       "      <th></th>\n",
       "      <th>title</th>\n",
       "      <th>today</th>\n",
       "      <th>total</th>\n",
       "    </tr>\n",
       "  </thead>\n",
       "  <tbody>\n",
       "    <tr>\n",
       "      <th>0</th>\n",
       "      <td>Uttar Pradesh</td>\n",
       "      <td>1931434</td>\n",
       "      <td>220313121</td>\n",
       "    </tr>\n",
       "    <tr>\n",
       "      <th>1</th>\n",
       "      <td>Maharashtra</td>\n",
       "      <td>637637</td>\n",
       "      <td>141550779</td>\n",
       "    </tr>\n",
       "  </tbody>\n",
       "</table>\n",
       "</div>"
      ],
      "text/plain": [
       "           title    today      total\n",
       "0  Uttar Pradesh  1931434  220313121\n",
       "1    Maharashtra   637637  141550779"
      ]
     },
     "execution_count": 120,
     "metadata": {},
     "output_type": "execute_result"
    }
   ],
   "source": [
    "state_wise.head(2)"
   ]
  },
  {
   "cell_type": "code",
   "execution_count": 122,
   "id": "72d5f528",
   "metadata": {},
   "outputs": [
    {
     "name": "stdout",
     "output_type": "stream",
     "text": [
      "file://C:/Users/Rajat/AppData/Local/Temp/tmproyvxl8q.html\n"
     ]
    }
   ],
   "source": [
    "bar_chart = pg.Bar(human_readable=True, width=1500, x_label_rotation=-45)\n",
    "bar_chart.title = \"State-wise Vaccination\"\n",
    "bar_chart.x_labels = map(str, state_wise.title)\n",
    "bar_chart.add('Today',state_wise.today)\n",
    "bar_chart.add('Total',state_wise.total)\n",
    "bar_chart.render_in_browser()"
   ]
  },
  {
   "cell_type": "code",
   "execution_count": 123,
   "id": "62a8bb1d",
   "metadata": {},
   "outputs": [],
   "source": [
    "state_wise_coverage = pd.read_excel('dashboard_export.xlsx', sheet_name='StateWiseVaccinationCoverage')"
   ]
  },
  {
   "cell_type": "code",
   "execution_count": 124,
   "id": "a15d3e6f",
   "metadata": {},
   "outputs": [
    {
     "data": {
      "text/html": [
       "<div>\n",
       "<style scoped>\n",
       "    .dataframe tbody tr th:only-of-type {\n",
       "        vertical-align: middle;\n",
       "    }\n",
       "\n",
       "    .dataframe tbody tr th {\n",
       "        vertical-align: top;\n",
       "    }\n",
       "\n",
       "    .dataframe thead th {\n",
       "        text-align: right;\n",
       "    }\n",
       "</style>\n",
       "<table border=\"1\" class=\"dataframe\">\n",
       "  <thead>\n",
       "    <tr style=\"text-align: right;\">\n",
       "      <th></th>\n",
       "      <th>title</th>\n",
       "      <th>partial_vaccinated</th>\n",
       "      <th>totally_vaccinated</th>\n",
       "      <th>precaution_dose</th>\n",
       "    </tr>\n",
       "  </thead>\n",
       "  <tbody>\n",
       "    <tr>\n",
       "      <th>0</th>\n",
       "      <td>Uttar Pradesh</td>\n",
       "      <td>138278956</td>\n",
       "      <td>81839248</td>\n",
       "      <td>194917</td>\n",
       "    </tr>\n",
       "    <tr>\n",
       "      <th>1</th>\n",
       "      <td>Maharashtra</td>\n",
       "      <td>84220725</td>\n",
       "      <td>57159109</td>\n",
       "      <td>170945</td>\n",
       "    </tr>\n",
       "  </tbody>\n",
       "</table>\n",
       "</div>"
      ],
      "text/plain": [
       "           title  partial_vaccinated  totally_vaccinated  precaution_dose\n",
       "0  Uttar Pradesh           138278956            81839248           194917\n",
       "1    Maharashtra            84220725            57159109           170945"
      ]
     },
     "execution_count": 124,
     "metadata": {},
     "output_type": "execute_result"
    }
   ],
   "source": [
    "state_wise_coverage.head(2)"
   ]
  },
  {
   "cell_type": "code",
   "execution_count": 125,
   "id": "21ddd7ef",
   "metadata": {},
   "outputs": [
    {
     "name": "stdout",
     "output_type": "stream",
     "text": [
      "file://C:/Users/Rajat/AppData/Local/Temp/tmpach1xugm.html\n"
     ]
    }
   ],
   "source": [
    "bar_chart = pg.StackedBar(fill=True, human_readable=True, width=1500, x_label_rotation=-45)\n",
    "bar_chart.title = \"State-wise Vaccination Coverage\"\n",
    "bar_chart.x_labels = map(str, state_wise_coverage.title)\n",
    "bar_chart.add('Partially Vaccinated',state_wise_coverage.partial_vaccinated)\n",
    "bar_chart.add('Full Vaccinated',state_wise_coverage.totally_vaccinated)\n",
    "bar_chart.add('Precaution Dose',state_wise_coverage.precaution_dose)\n",
    "bar_chart.render_in_browser()"
   ]
  },
  {
   "cell_type": "code",
   "execution_count": 126,
   "id": "36bd9e06",
   "metadata": {},
   "outputs": [],
   "source": [
    "geographic = pd.read_excel('dashboard_export.xlsx', sheet_name='VaccinationByCategory')"
   ]
  },
  {
   "cell_type": "code",
   "execution_count": 127,
   "id": "85f19705",
   "metadata": {},
   "outputs": [
    {
     "data": {
      "text/html": [
       "<div>\n",
       "<style scoped>\n",
       "    .dataframe tbody tr th:only-of-type {\n",
       "        vertical-align: middle;\n",
       "    }\n",
       "\n",
       "    .dataframe tbody tr th {\n",
       "        vertical-align: top;\n",
       "    }\n",
       "\n",
       "    .dataframe thead th {\n",
       "        text-align: right;\n",
       "    }\n",
       "</style>\n",
       "<table border=\"1\" class=\"dataframe\">\n",
       "  <thead>\n",
       "    <tr style=\"text-align: right;\">\n",
       "      <th></th>\n",
       "      <th>vaccine_date</th>\n",
       "      <th>rural</th>\n",
       "      <th>urban</th>\n",
       "    </tr>\n",
       "  </thead>\n",
       "  <tbody>\n",
       "    <tr>\n",
       "      <th>0</th>\n",
       "      <td>2021-12-28</td>\n",
       "      <td>5044756</td>\n",
       "      <td>1732689</td>\n",
       "    </tr>\n",
       "    <tr>\n",
       "      <th>1</th>\n",
       "      <td>2021-12-29</td>\n",
       "      <td>5023992</td>\n",
       "      <td>1698049</td>\n",
       "    </tr>\n",
       "  </tbody>\n",
       "</table>\n",
       "</div>"
      ],
      "text/plain": [
       "  vaccine_date    rural    urban\n",
       "0   2021-12-28  5044756  1732689\n",
       "1   2021-12-29  5023992  1698049"
      ]
     },
     "execution_count": 127,
     "metadata": {},
     "output_type": "execute_result"
    }
   ],
   "source": [
    "geographic.head(2)"
   ]
  },
  {
   "cell_type": "code",
   "execution_count": 129,
   "id": "bbd277e0",
   "metadata": {},
   "outputs": [
    {
     "name": "stdout",
     "output_type": "stream",
     "text": [
      "file://C:/Users/Rajat/AppData/Local/Temp/tmpqo4zwho1.html\n"
     ]
    }
   ],
   "source": [
    "bar_chart = pg.Bar(human_readable=True, width=1500)\n",
    "bar_chart.title = \"State-wise Vaccination\"\n",
    "bar_chart.x_labels = map(str, geographic.vaccine_date)\n",
    "bar_chart.add('Rural',geographic.rural)\n",
    "bar_chart.add('Urban',geographic.urban)\n",
    "bar_chart.render_in_browser()"
   ]
  }
 ],
 "metadata": {
  "kernelspec": {
   "display_name": "Python 3 (ipykernel)",
   "language": "python",
   "name": "python3"
  },
  "language_info": {
   "codemirror_mode": {
    "name": "ipython",
    "version": 3
   },
   "file_extension": ".py",
   "mimetype": "text/x-python",
   "name": "python",
   "nbconvert_exporter": "python",
   "pygments_lexer": "ipython3",
   "version": "3.9.7"
  }
 },
 "nbformat": 4,
 "nbformat_minor": 5
}
